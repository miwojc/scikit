{
 "cells": [
  {
   "cell_type": "markdown",
   "id": "ce4ae59a",
   "metadata": {},
   "source": [
    "# 📝 Exercise M1.05\n",
    "\n",
    "The goal of this exercise is to evaluate the impact of feature preprocessing\n",
    "on a pipeline that uses a decision-tree-based classifier instead of logistic\n",
    "regression.\n",
    "\n",
    "- The first question is to empirically evaluate whether scaling numerical\n",
    "  feature is helpful or not;\n",
    "- The second question is to evaluate whether it is empirically better (both\n",
    "  from a computational and a statistical perspective) to use integer coded or\n",
    "  one-hot encoded categories."
   ]
  },
  {
   "cell_type": "code",
   "execution_count": 21,
   "id": "ecfc094a",
   "metadata": {},
   "outputs": [],
   "source": [
    "import pandas as pd\n",
    "\n",
    "adult_census = pd.read_csv(\"../datasets/adult-census.csv\")"
   ]
  },
  {
   "cell_type": "code",
   "execution_count": 22,
   "id": "1c18ea34",
   "metadata": {},
   "outputs": [],
   "source": [
    "target_name = \"class\"\n",
    "target = adult_census[target_name]\n",
    "data = adult_census.drop(columns=[target_name, \"education-num\"])"
   ]
  },
  {
   "cell_type": "markdown",
   "id": "ddcb577a",
   "metadata": {},
   "source": [
    "As in the previous notebooks, we use the utility `make_column_selector`\n",
    "to only select column with a specific data type. Besides, we list in\n",
    "advance all categories for the categorical columns."
   ]
  },
  {
   "cell_type": "code",
   "execution_count": 23,
   "id": "c6db12cb",
   "metadata": {},
   "outputs": [],
   "source": [
    "from sklearn.compose import make_column_selector as selector\n",
    "\n",
    "numerical_columns_selector = selector(dtype_exclude=object)\n",
    "categorical_columns_selector = selector(dtype_include=object)\n",
    "numerical_columns = numerical_columns_selector(data)\n",
    "categorical_columns = categorical_columns_selector(data)"
   ]
  },
  {
   "cell_type": "markdown",
   "id": "e3848285",
   "metadata": {},
   "source": [
    "## Reference pipeline (no numerical scaling and integer-coded categories)\n",
    "\n",
    "First let's time the pipeline we used in the main notebook to serve as a\n",
    "reference:"
   ]
  },
  {
   "cell_type": "code",
   "execution_count": 24,
   "id": "6768f935",
   "metadata": {},
   "outputs": [
    {
     "name": "stdout",
     "output_type": "stream",
     "text": [
      "The mean cross-validation accuracy is: 0.874 +/- 0.003\n",
      "CPU times: user 1min 7s, sys: 2.8 s, total: 1min 10s\n",
      "Wall time: 6.32 s\n"
     ]
    }
   ],
   "source": [
    "%%time\n",
    "from sklearn.model_selection import cross_validate\n",
    "from sklearn.pipeline import make_pipeline\n",
    "from sklearn.compose import ColumnTransformer\n",
    "from sklearn.preprocessing import OrdinalEncoder\n",
    "from sklearn.experimental import enable_hist_gradient_boosting\n",
    "from sklearn.ensemble import HistGradientBoostingClassifier\n",
    "\n",
    "categorical_preprocessor = OrdinalEncoder(handle_unknown=\"use_encoded_value\",\n",
    "                                          unknown_value=-1)\n",
    "preprocessor = ColumnTransformer([\n",
    "    ('categorical', categorical_preprocessor, categorical_columns)],\n",
    "    remainder=\"passthrough\")\n",
    "\n",
    "model = make_pipeline(preprocessor, HistGradientBoostingClassifier())\n",
    "cv_results = cross_validate(model, data, target)\n",
    "scores = cv_results[\"test_score\"]\n",
    "print(\"The mean cross-validation accuracy is: \"\n",
    "      f\"{scores.mean():.3f} +/- {scores.std():.3f}\")"
   ]
  },
  {
   "cell_type": "markdown",
   "id": "f32ef749",
   "metadata": {},
   "source": [
    "## Scaling numerical features\n",
    "\n",
    "Let's write a similar pipeline that also scales the numerical features using\n",
    "`StandardScaler` (or similar):"
   ]
  },
  {
   "cell_type": "code",
   "execution_count": 25,
   "id": "d57c4582",
   "metadata": {},
   "outputs": [
    {
     "name": "stdout",
     "output_type": "stream",
     "text": [
      "The mean cross-validation accuracy is: 0.874 +/- 0.003\n",
      "CPU times: user 1min 2s, sys: 2.72 s, total: 1min 5s\n",
      "Wall time: 5.74 s\n"
     ]
    }
   ],
   "source": [
    "%%time\n",
    "# Write your code here.\n",
    "from sklearn.preprocessing import StandardScaler\n",
    "\n",
    "preprocessor = ColumnTransformer([\n",
    "    ('categorical', OrdinalEncoder(handle_unknown=\"use_encoded_value\", unknown_value=-1), categorical_columns),\n",
    "    ('numerical', StandardScaler(), numerical_columns)\n",
    "])\n",
    "\n",
    "model = make_pipeline(preprocessor, HistGradientBoostingClassifier())\n",
    "cv_resutls = cross_validate(model, data, target)\n",
    "scores =  cv_results[\"test_score\"]\n",
    "print(f\"The mean cross-validation accuracy is: {scores.mean():.3f} +/- {scores.std():.3f}\")"
   ]
  },
  {
   "cell_type": "markdown",
   "id": "0ead5180-1320-46e2-acc8-fc00fcecaf24",
   "metadata": {},
   "source": [
    "Scaling numerical features didn't improve model accuracy."
   ]
  },
  {
   "cell_type": "markdown",
   "id": "164e7270",
   "metadata": {},
   "source": [
    "## One-hot encoding of categorical variables\n",
    "\n",
    "For linear models, we have observed that integer coding of categorical\n",
    "variables can be very detrimental. However for\n",
    "`HistGradientBoostingClassifier` models, it does not seem to be the case as\n",
    "the cross-validation of the reference pipeline with `OrdinalEncoder` is good.\n",
    "\n",
    "Let's see if we can get an even better accuracy with `OneHotEncoder`.\n",
    "\n",
    "Hint: `HistGradientBoostingClassifier` does not yet support sparse input\n",
    "data. You might want to use\n",
    "`OneHotEncoder(handle_unknown=\"ignore\", sparse=False)` to force the use of a\n",
    "dense representation as a workaround."
   ]
  },
  {
   "cell_type": "code",
   "execution_count": 26,
   "id": "7d516ff3",
   "metadata": {},
   "outputs": [
    {
     "name": "stdout",
     "output_type": "stream",
     "text": [
      "The mean cross-validation accuracy is: 0.873 +/- 0.002\n",
      "CPU times: user 1min 31s, sys: 2.81 s, total: 1min 33s\n",
      "Wall time: 8.4 s\n"
     ]
    }
   ],
   "source": [
    "%%time\n",
    "# Write your code here.\n",
    "from sklearn.preprocessing import OneHotEncoder\n",
    "\n",
    "categorical_preprocessor = OneHotEncoder(handle_unknown=\"ignore\", sparse=False)\n",
    "\n",
    "preprocessor = ColumnTransformer([\n",
    "    ('one-hot-encoder', categorical_preprocessor, categorical_columns)\n",
    "], remainder=\"passthrough\")\n",
    "\n",
    "model = make_pipeline(preprocessor, HistGradientBoostingClassifier())\n",
    "cv_results = cross_validate(model, data, target)\n",
    "scores = cv_results[\"test_score\"]\n",
    "print(f\"The mean cross-validation accuracy is: {scores.mean():.3f} +/- {scores.std():.3f}\")"
   ]
  },
  {
   "cell_type": "markdown",
   "id": "f61bb615-fa0a-44c7-a2ad-b2ed78d5fdbe",
   "metadata": {},
   "source": [
    "Accuracy is almost identical to previous results."
   ]
  },
  {
   "cell_type": "markdown",
   "id": "fb57b485-a75c-4802-ac09-ea4f08ed4b85",
   "metadata": {},
   "source": [
    "Training time is longer than with ordinal encoding, this is because one-hot encoding generates approximately 10x more features."
   ]
  },
  {
   "cell_type": "markdown",
   "id": "0688bd06-21f4-467d-936d-dbc17177b7a0",
   "metadata": {},
   "source": [
    "Learning here is that for HistGradientBoostingClassifier it's fine to use integer coding of categories and it yields faster (than with one-hot encoding) training times."
   ]
  },
  {
   "cell_type": "code",
   "execution_count": null,
   "id": "14570edc-9ce7-4c1c-a373-c9abf43fa646",
   "metadata": {},
   "outputs": [],
   "source": []
  }
 ],
 "metadata": {
  "kernelspec": {
   "display_name": "Python 3",
   "language": "python",
   "name": "python3"
  },
  "language_info": {
   "codemirror_mode": {
    "name": "ipython",
    "version": 3
   },
   "file_extension": ".py",
   "mimetype": "text/x-python",
   "name": "python",
   "nbconvert_exporter": "python",
   "pygments_lexer": "ipython3",
   "version": "3.9.1"
  }
 },
 "nbformat": 4,
 "nbformat_minor": 5
}
